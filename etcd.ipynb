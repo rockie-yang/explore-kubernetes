{
 "cells": [
  {
   "cell_type": "markdown",
   "metadata": {},
   "source": [
    "## Get all etcd keys\n",
    "\n",
    "etcd has two versions of API can be used based on environment variable. \n",
    "\n",
    "The interface between V2 and V3 are slightly different. \n",
    "\n",
    "- Using get/put instead of set in V2\n",
    "- Plain key space, no hierachy available on V3, so there is no ls in V3\n",
    " \n",
    "Put either in ~/.bashrc or somewhere before running command. \n",
    "\n",
    "    export ETCDCTL_API=3\n",
    "    \n",
    "The following command get all keys\n",
    "\n",
    "    etcdctl get \"\" --prefix=true -w=json"
   ]
  },
  {
   "cell_type": "code",
   "execution_count": 15,
   "metadata": {},
   "outputs": [],
   "source": [
    "example_json = {\n",
    "  \"header\": {\n",
    "    \"cluster_id\": 7916590164392695509,\n",
    "    \"member_id\": 7701858636361386781,\n",
    "    \"revision\": 11165,\n",
    "    \"raft_term\": 2\n",
    "  },\n",
    "  \"kvs\": [\n",
    "    {\n",
    "      \"key\": \"L3JlZ2lzdHJ5L2FwaWV4dGVuc2lvbnMuazhzLmlvL2N1c3RvbXJlc291cmNlZGVmaW5pdGlvbnMvYmdwY29uZmlndXJhdGlvbnMuY3JkLnByb2plY3RjYWxpY28ub3Jn\",\n",
    "      \"create_revision\": 55,\n",
    "      \"mod_revision\": 56,\n",
    "      \"version\": 2,\n",
    "      \"value\": \"eyJraW5kIjoiQ3VzdG9tUmVzb3VyY2VEZWZpbml0aW9uIiwiYXBpVmVyc2lvbiI6ImFwaWV4dGVuc2lvbnMuazhzLmlvL3YxYmV0YTEiLCJtZXRhZGF0YSI6eyJuYW1lIjoiYmdwY29uZmlndXJhdGlvbnMuY3JkLnByb2plY3RjYWxpY28ub3JnIiwidWlkIjoiZGQzZmNiMTEtZTE3Ni0xMWU4LTg3YzgtMDgwMDI3YTcwZTM0IiwiZ2VuZXJhdGlvbiI6MSwiY3JlYXRpb25UaW1lc3RhbXAiOiIyMDE4LTExLTA2VDAzOjQ4OjQ2WiIsImFubm90YXRpb25zIjp7Imt1YmVjdGwua3ViZXJuZXRlcy5pby9sYXN0LWFwcGxpZWQtY29uZmlndXJhdGlvbiI6IntcImFwaVZlcnNpb25cIjpcImFwaWV4dGVuc2lvbnMuazhzLmlvL3YxYmV0YTFcIixcImtpbmRcIjpcIkN1c3RvbVJlc291cmNlRGVmaW5pdGlvblwiLFwibWV0YWRhdGFcIjp7XCJhbm5vdGF0aW9uc1wiOnt9LFwibmFtZVwiOlwiYmdwY29uZmlndXJhdGlvbnMuY3JkLnByb2plY3RjYWxpY28ub3JnXCIsXCJuYW1lc3BhY2VcIjpcIlwifSxcInNwZWNcIjp7XCJncm91cFwiOlwiY3JkLnByb2plY3RjYWxpY28ub3JnXCIsXCJuYW1lc1wiOntcImtpbmRcIjpcIkJHUENvbmZpZ3VyYXRpb25cIixcInBsdXJhbFwiOlwiYmdwY29uZmlndXJhdGlvbnNcIixcInNpbmd1bGFyXCI6XCJiZ3Bjb25maWd1cmF0aW9uXCJ9LFwic2NvcGVcIjpcIkNsdXN0ZXJcIixcInZlcnNpb25cIjpcInYxXCJ9fVxuIn19LCJzcGVjIjp7Imdyb3VwIjoiY3JkLnByb2plY3RjYWxpY28ub3JnIiwidmVyc2lvbiI6InYxIiwibmFtZXMiOnsicGx1cmFsIjoiYmdwY29uZmlndXJhdGlvbnMiLCJzaW5ndWxhciI6ImJncGNvbmZpZ3VyYXRpb24iLCJraW5kIjoiQkdQQ29uZmlndXJhdGlvbiIsImxpc3RLaW5kIjoiQkdQQ29uZmlndXJhdGlvbkxpc3QifSwic2NvcGUiOiJDbHVzdGVyIn0sInN0YXR1cyI6eyJjb25kaXRpb25zIjpbeyJ0eXBlIjoiTmFtZXNBY2NlcHRlZCIsInN0YXR1cyI6IlRydWUiLCJsYXN0VHJhbnNpdGlvblRpbWUiOiIyMDE4LTExLTA2VDAzOjQ4OjQ2WiIsInJlYXNvbiI6Ik5vQ29uZmxpY3RzIiwibWVzc2FnZSI6Im5vIGNvbmZsaWN0cyBmb3VuZCJ9LHsidHlwZSI6IkVzdGFibGlzaGVkIiwic3RhdHVzIjoiVHJ1ZSIsImxhc3RUcmFuc2l0aW9uVGltZSI6IjIwMTgtMTEtMDZUMDM6NDg6NDZaIiwicmVhc29uIjoiSW5pdGlhbE5hbWVzQWNjZXB0ZWQiLCJtZXNzYWdlIjoidGhlIGluaXRpYWwgbmFtZXMgaGF2ZSBiZWVuIGFjY2VwdGVkIn1dLCJhY2NlcHRlZE5hbWVzIjp7InBsdXJhbCI6ImJncGNvbmZpZ3VyYXRpb25zIiwic2luZ3VsYXIiOiJiZ3Bjb25maWd1cmF0aW9uIiwia2luZCI6IkJHUENvbmZpZ3VyYXRpb24iLCJsaXN0S2luZCI6IkJHUENvbmZpZ3VyYXRpb25MaXN0In19fQo=\"\n",
    "    },\n",
    "  ],\n",
    "  \"count\": 86\n",
    "}"
   ]
  },
  {
   "cell_type": "code",
   "execution_count": 12,
   "metadata": {},
   "outputs": [],
   "source": [
    "import json\n",
    "import base64\n",
    "with open('default-etcd.json', 'r') as f:\n",
    "    etcd = json.load(f)\n",
    "\n",
    "\n",
    "keys = [item[\"key\"] for item in etcd[\"kvs\"]]\n",
    "keys = [str(base64.b64decode(key)) for key in keys]"
   ]
  },
  {
   "cell_type": "code",
   "execution_count": 37,
   "metadata": {},
   "outputs": [],
   "source": [
    "import re\n",
    "def filter_none_ascii(s):\n",
    "    return re.sub(r'[^\\x00-\\x7f]',r'', str(s))\n",
    "\n",
    "key_values = {base64.b64decode(item[\"key\"]).decode(\"ISO-8859-1\"): base64.b64decode(item[\"value\"]).decode(\"ISO-8859-1\") for item in etcd[\"kvs\"]}"
   ]
  },
  {
   "cell_type": "code",
   "execution_count": 38,
   "metadata": {},
   "outputs": [
    {
     "data": {
      "text/plain": [
       "['/registry/apiextensions.k8s.io/customresourcedefinitions/bgpconfigurations.crd.projectcalico.org',\n",
       " '/registry/apiextensions.k8s.io/customresourcedefinitions/bgppeers.crd.projectcalico.org',\n",
       " '/registry/apiextensions.k8s.io/customresourcedefinitions/clusterinformations.crd.projectcalico.org',\n",
       " '/registry/apiextensions.k8s.io/customresourcedefinitions/felixconfigurations.crd.projectcalico.org',\n",
       " '/registry/apiextensions.k8s.io/customresourcedefinitions/globalnetworkpolicies.crd.projectcalico.org',\n",
       " '/registry/apiextensions.k8s.io/customresourcedefinitions/globalnetworksets.crd.projectcalico.org',\n",
       " '/registry/apiextensions.k8s.io/customresourcedefinitions/hostendpoints.crd.projectcalico.org',\n",
       " '/registry/apiextensions.k8s.io/customresourcedefinitions/ippools.crd.projectcalico.org',\n",
       " '/registry/apiextensions.k8s.io/customresourcedefinitions/networkpolicies.crd.projectcalico.org',\n",
       " '/registry/apiregistration.k8s.io/apiservices/v1.',\n",
       " '/registry/apiregistration.k8s.io/apiservices/v1.apps',\n",
       " '/registry/apiregistration.k8s.io/apiservices/v1.authentication.k8s.io',\n",
       " '/registry/apiregistration.k8s.io/apiservices/v1.authorization.k8s.io',\n",
       " '/registry/apiregistration.k8s.io/apiservices/v1.autoscaling',\n",
       " '/registry/apiregistration.k8s.io/apiservices/v1.batch',\n",
       " '/registry/apiregistration.k8s.io/apiservices/v1.crd.projectcalico.org',\n",
       " '/registry/apiregistration.k8s.io/apiservices/v1.networking.k8s.io',\n",
       " '/registry/apiregistration.k8s.io/apiservices/v1.rbac.authorization.k8s.io',\n",
       " '/registry/apiregistration.k8s.io/apiservices/v1.storage.k8s.io',\n",
       " '/registry/apiregistration.k8s.io/apiservices/v1beta1.admissionregistration.k8s.io',\n",
       " '/registry/apiregistration.k8s.io/apiservices/v1beta1.apiextensions.k8s.io',\n",
       " '/registry/apiregistration.k8s.io/apiservices/v1beta1.apps',\n",
       " '/registry/apiregistration.k8s.io/apiservices/v1beta1.authentication.k8s.io',\n",
       " '/registry/apiregistration.k8s.io/apiservices/v1beta1.authorization.k8s.io',\n",
       " '/registry/apiregistration.k8s.io/apiservices/v1beta1.batch',\n",
       " '/registry/apiregistration.k8s.io/apiservices/v1beta1.certificates.k8s.io',\n",
       " '/registry/apiregistration.k8s.io/apiservices/v1beta1.events.k8s.io',\n",
       " '/registry/apiregistration.k8s.io/apiservices/v1beta1.extensions',\n",
       " '/registry/apiregistration.k8s.io/apiservices/v1beta1.policy',\n",
       " '/registry/apiregistration.k8s.io/apiservices/v1beta1.rbac.authorization.k8s.io',\n",
       " '/registry/apiregistration.k8s.io/apiservices/v1beta1.storage.k8s.io',\n",
       " '/registry/apiregistration.k8s.io/apiservices/v1beta2.apps',\n",
       " '/registry/apiregistration.k8s.io/apiservices/v2beta1.autoscaling',\n",
       " '/registry/clusterrolebindings/system:coredns',\n",
       " '/registry/clusterroles/system:coredns',\n",
       " '/registry/configmaps/kube-system/calico-config',\n",
       " '/registry/configmaps/kube-system/coredns',\n",
       " '/registry/configmaps/kube-system/extension-apiserver-authentication',\n",
       " '/registry/controllerrevisions/kube-system/calico-node-7b5d4d489',\n",
       " '/registry/crd.projectcalico.org/clusterinformations/default',\n",
       " '/registry/crd.projectcalico.org/felixconfigurations/default',\n",
       " '/registry/crd.projectcalico.org/ippools/default-ipv4-ippool',\n",
       " '/registry/daemonsets/kube-system/calico-node',\n",
       " '/registry/deployments/kube-system/calico-typha',\n",
       " '/registry/deployments/kube-system/coredns',\n",
       " '/registry/events/kube-system/calico-typha.15646c60c5f160d1',\n",
       " '/registry/minions/172.17.8.101',\n",
       " '/registry/minions/172.17.8.102',\n",
       " '/registry/minions/172.17.8.103',\n",
       " '/registry/namespaces/default',\n",
       " '/registry/namespaces/kube-public',\n",
       " '/registry/namespaces/kube-system',\n",
       " '/registry/poddisruptionbudgets/kube-system/calico-typha',\n",
       " '/registry/pods/kube-system/calico-node-24m52',\n",
       " '/registry/pods/kube-system/calico-node-jb62j',\n",
       " '/registry/pods/kube-system/calico-node-vk4rg',\n",
       " '/registry/pods/kube-system/coredns-794cc4cddd-pbl78',\n",
       " '/registry/pods/kube-system/coredns-794cc4cddd-vz4xm',\n",
       " '/registry/pods/kube-system/kube-apiserver-172.17.8.101',\n",
       " '/registry/pods/kube-system/kube-controller-manager-172.17.8.101',\n",
       " '/registry/pods/kube-system/kube-proxy-172.17.8.101',\n",
       " '/registry/pods/kube-system/kube-proxy-172.17.8.102',\n",
       " '/registry/pods/kube-system/kube-proxy-172.17.8.103',\n",
       " '/registry/pods/kube-system/kube-scheduler-172.17.8.101',\n",
       " '/registry/ranges/serviceips',\n",
       " '/registry/ranges/servicenodeports',\n",
       " '/registry/replicasets/kube-system/calico-typha-67b4d7c986',\n",
       " '/registry/replicasets/kube-system/coredns-794cc4cddd',\n",
       " '/registry/secrets/default/default-token-7vjph',\n",
       " '/registry/secrets/kube-public/default-token-tpzbm',\n",
       " '/registry/secrets/kube-system/calico-node-token-r7bkv',\n",
       " '/registry/secrets/kube-system/coredns-token-z7kgx',\n",
       " '/registry/secrets/kube-system/default-token-ncf77',\n",
       " '/registry/serviceaccounts/default/default',\n",
       " '/registry/serviceaccounts/kube-public/default',\n",
       " '/registry/serviceaccounts/kube-system/calico-node',\n",
       " '/registry/serviceaccounts/kube-system/coredns',\n",
       " '/registry/serviceaccounts/kube-system/default',\n",
       " '/registry/services/endpoints/default/kubernetes',\n",
       " '/registry/services/endpoints/kube-system/calico-typha',\n",
       " '/registry/services/endpoints/kube-system/kube-controller-manager',\n",
       " '/registry/services/endpoints/kube-system/kube-dns',\n",
       " '/registry/services/endpoints/kube-system/kube-scheduler',\n",
       " '/registry/services/specs/default/kubernetes',\n",
       " '/registry/services/specs/kube-system/calico-typha',\n",
       " '/registry/services/specs/kube-system/kube-dns',\n",
       " 'compact_rev_key']"
      ]
     },
     "execution_count": 38,
     "metadata": {},
     "output_type": "execute_result"
    }
   ],
   "source": [
    "keys = [key for key in key_values]\n",
    "keys"
   ]
  },
  {
   "cell_type": "code",
   "execution_count": 36,
   "metadata": {},
   "outputs": [
    {
     "name": "stdout",
     "output_type": "stream",
     "text": [
      "k8s\u0000\n",
      "\u000f\n",
      "\u0002v1\u0012\tNamespace\u0012_\n",
      "E\n",
      "\u0007default\u0012\u0000\u001a\u0000\"\u0000*$da3e6940-e176-11e8-87c8-080027a70e342\u00008\u0000B\b\bß\u0005\u0010\u0000z\u0000\u0012\f",
      "\n",
      "\n",
      "kubernetes\u001a\b\n",
      "\u0006Active\u001a\u0000\"\u0000\n"
     ]
    }
   ],
   "source": [
    "print(key_values[b'/registry/namespaces/default'])"
   ]
  },
  {
   "cell_type": "code",
   "execution_count": 32,
   "metadata": {},
   "outputs": [],
   "source": [
    "s = key_values[b'/registry/namespaces/default']"
   ]
  },
  {
   "cell_type": "code",
   "execution_count": 33,
   "metadata": {},
   "outputs": [
    {
     "data": {
      "text/plain": [
       "'b\\'k8s\\\\x00\\\\n\\\\x0f\\\\n\\\\x02v1\\\\x12\\\\tNamespace\\\\x12_\\\\nE\\\\n\\\\x07default\\\\x12\\\\x00\\\\x1a\\\\x00\"\\\\x00*$da3e6940-e176-11e8-87c8-080027a70e342\\\\x008\\\\x00B\\\\x08\\\\x08\\\\x99\\\\x9e\\\\x84\\\\xdf\\\\x05\\\\x10\\\\x00z\\\\x00\\\\x12\\\\x0c\\\\n\\\\nkubernetes\\\\x1a\\\\x08\\\\n\\\\x06Active\\\\x1a\\\\x00\"\\\\x00\\''"
      ]
     },
     "execution_count": 33,
     "metadata": {},
     "output_type": "execute_result"
    }
   ],
   "source": [
    "re.sub(r'[^\\x00-\\x7f]',r'', str(s))"
   ]
  },
  {
   "cell_type": "code",
   "execution_count": null,
   "metadata": {},
   "outputs": [],
   "source": []
  }
 ],
 "metadata": {
  "kernelspec": {
   "display_name": "Python 3",
   "language": "python",
   "name": "python3"
  },
  "language_info": {
   "codemirror_mode": {
    "name": "ipython",
    "version": 3
   },
   "file_extension": ".py",
   "mimetype": "text/x-python",
   "name": "python",
   "nbconvert_exporter": "python",
   "pygments_lexer": "ipython3",
   "version": "3.6.4"
  }
 },
 "nbformat": 4,
 "nbformat_minor": 2
}
