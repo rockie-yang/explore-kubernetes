{
 "cells": [
  {
   "cell_type": "code",
   "execution_count": 3,
   "metadata": {},
   "outputs": [
    {
     "name": "stdout",
     "output_type": "stream",
     "text": [
      "CONTAINER ID        IMAGE                                 COMMAND                  CREATED             STATUS              PORTS                       NAMES\r\n",
      "77d9f8d3237e        mirantis/kubeadm-dind-cluster:v1.11   \"/sbin/dind_init sys…\"   8 minutes ago       Up 8 minutes        8080/tcp                    kube-node-2\r\n",
      "f06e4cdac31f        mirantis/kubeadm-dind-cluster:v1.11   \"/sbin/dind_init sys…\"   8 minutes ago       Up 8 minutes        8080/tcp                    kube-node-1\r\n",
      "e7e5aa014a4a        mirantis/kubeadm-dind-cluster:v1.11   \"/sbin/dind_init sys…\"   10 minutes ago      Up 10 minutes       127.0.0.1:32770->8080/tcp   kube-master\r\n"
     ]
    }
   ],
   "source": [
    "!docker ps "
   ]
  },
  {
   "cell_type": "code",
   "execution_count": 2,
   "metadata": {},
   "outputs": [
    {
     "name": "stdout",
     "output_type": "stream",
     "text": [
      "NAME          STATUS   ROLES    AGE   VERSION\r\n",
      "kube-master   Ready    master   9m    v1.11.0\r\n",
      "kube-node-1   Ready    <none>   7m    v1.11.0\r\n",
      "kube-node-2   Ready    <none>   7m    v1.11.0\r\n"
     ]
    }
   ],
   "source": [
    "!kubectl get nodes"
   ]
  },
  {
   "cell_type": "markdown",
   "metadata": {},
   "source": [
    "## kubelet\n",
    "\n",
    "kubelet is the core agent run by systemd. \n",
    "It is the start point of a kerbernets node, either Head Node or Worker Node\n"
   ]
  },
  {
   "cell_type": "code",
   "execution_count": 5,
   "metadata": {},
   "outputs": [
    {
     "name": "stdout",
     "output_type": "stream",
     "text": [
      "● kubelet.service - kubelet: The Kubernetes Node Agent\r\n",
      "   Loaded: loaded (/lib/systemd/system/kubelet.service; enabled; vendor preset: enabled)\r\n",
      "   Active: active (running) since Wed 2018-10-31 14:10:40 UTC; 9min ago\r\n",
      "     Docs: http://kubernetes.io/docs/\r\n",
      " Main PID: 3837 (hyperkube)\r\n",
      "    Tasks: 20 (limit: 4915)\r\n",
      "   Memory: 53.6M\r\n",
      "      CPU: 18.604s\r\n",
      "   CGroup: /docker/e7e5aa014a4aae2b25eed47e768245fa339670a92e061c82549172a678c3ea0b/system.slice/kubelet.service\r\n",
      "           └─3837 /k8s/hyperkube kubelet --kubeconfig=/etc/kubernetes/kubelet.conf --pod-manifest-path=/etc/kubernetes/manifests --allow-privileged=true --network-plugin=cni --cni-conf-dir=/etc/cni/net.d --cni-bin-dir=/opt/cni/bin --cluster-dns=10.96.0.10 --cluster-domain=cluster.local --eviction-hard=memory.available<100Mi,nodefs.available<100Mi,nodefs.inodesFree<1000 --fail-swap-on=false --bootstrap-kubeconfig=/etc/kubernetes/bootstrap-kubelet.conf --feature-gates=MountPropagation=true,DynamicKubeletConfig=true --v=4\r\n",
      "\r\n",
      "Oct 31 14:20:23 kube-master hyperkube[3837]: I1031 14:20:23.197593    3837 helpers.go:836] eviction manager: observations: signal=imagefs.inodesFree, available: 3550646, capacity: 3907584, time: 2018-10-31 14:20:23.184630467 +0000 UTC m=+583.141016621\r\n",
      "Oct 31 14:20:23 kube-master hyperkube[3837]: I1031 14:20:23.197619    3837 eviction_manager.go:317] eviction manager: no resources are starved\r\n",
      "Oct 31 14:20:24 kube-master hyperkube[3837]: I1031 14:20:24.076504    3837 prober.go:165] HTTP-Probe Host: http://127.0.0.1, Port: 10252, Path: /healthz\r\n",
      "Oct 31 14:20:24 kube-master hyperkube[3837]: I1031 14:20:24.076551    3837 prober.go:168] HTTP-Probe Headers: map[]\r\n",
      "Oct 31 14:20:24 kube-master hyperkube[3837]: I1031 14:20:24.077545    3837 http.go:96] Probe succeeded for http://127.0.0.1:10252/healthz, Response: {200 OK 200 HTTP/1.1 1 1 map[Date:[Wed, 31 Oct 2018 14:20:24 GMT] Content-Length:[2] Content-Type:[text/plain; charset=utf-8]] 0xc421fd27a0 2 [] true false map[] 0xc420fd5200 <nil>}\r\n",
      "Oct 31 14:20:24 kube-master hyperkube[3837]: I1031 14:20:24.077624    3837 prober.go:118] Liveness probe for \"kube-controller-manager-kube-master_default(88348e9dea8bd5a9480d791b6fbffc7e):kube-controller-manager\" succeeded\r\n",
      "Oct 31 14:20:24 kube-master hyperkube[3837]: I1031 14:20:24.184197    3837 kubelet.go:1926] SyncLoop (housekeeping)\r\n",
      "Oct 31 14:20:26 kube-master hyperkube[3837]: I1031 14:20:26.184118    3837 kubelet.go:1926] SyncLoop (housekeeping)\r\n",
      "Oct 31 14:20:27 kube-master hyperkube[3837]: I1031 14:20:27.647286    3837 kubelet.go:2109] Container runtime status: Runtime Conditions: RuntimeReady=true reason: message:, NetworkReady=true reason: message:\r\n",
      "Oct 31 14:20:28 kube-master hyperkube[3837]: I1031 14:20:28.184386    3837 kubelet.go:1926] SyncLoop (housekeeping)\r\n"
     ]
    }
   ],
   "source": [
    "!docker exec -i kube-master systemctl status kubelet"
   ]
  },
  {
   "cell_type": "code",
   "execution_count": 6,
   "metadata": {},
   "outputs": [
    {
     "name": "stdout",
     "output_type": "stream",
     "text": [
      "apiVersion: v1\r\n",
      "clusters:\r\n",
      "- cluster:\r\n",
      "    certificate-authority-data: LS0tLS1CRUdJTiBDRVJUSUZJQ0FURS0tLS0tCk1JSUN5RENDQWJDZ0F3SUJBZ0lCQURBTkJna3Foa2lHOXcwQkFRc0ZBREFWTVJNd0VRWURWUVFERXdwcmRXSmwKY201bGRHVnpNQjRYRFRFNE1UQXpNVEUwTURneE5Wb1hEVEk0TVRBeU9ERTBNRGd4TlZvd0ZURVRNQkVHQTFVRQpBeE1LYTNWaVpYSnVaWFJsY3pDQ0FTSXdEUVlKS29aSWh2Y05BUUVCQlFBRGdnRVBBRENDQVFvQ2dnRUJBTFRVCnBsV1hmTG9OQ0JNazNMNXNlNW90T3c5em5DWThSeDh2RUd3S2xJeEZmNy92Zy8zNVdaalB0aU1mYS9TNXMyOWQKa0gxWkZ0OUs2WEJJSEI3QmxVemhoSk14VEYxeVlEV2Qwd2llV1FtMlM1TC9FdEhoZlBESzdjZFBQSUtmSDBJRAphNDVLN0hEZUI1dTFqb280dUlHWDlyRmxld1J4S2VKVDJzWlZrbkhZVnFuRXRGRlZ4T3dIRkcrdUppQ0pYbU9MCkFvRm5XRUdxQ0FJNy91M01XdVZRMzVsUFVxWm1XeXVSWldkY0RobTNTa0o1cVpVZ2x1dGNRSm9JNWxrakJPT28KT1BzSFhKeWFKVDRiWHFJV1JVME4xOTJzTmpRclhOdnFBTXhLZlBkV2hKL01vRlhuTXFyQ2c0Um1ZRmFsQVg0bwpHZjM0UERWZmFsNjVsUFJTOVMwQ0F3RUFBYU1qTUNFd0RnWURWUjBQQVFIL0JBUURBZ0trTUE4R0ExVWRFd0VCCi93UUZNQU1CQWY4d0RRWUpLb1pJaHZjTkFRRUxCUUFEZ2dFQkFDSUNWVVNtTnJzSVFvZzNqbTlqTE9vd3V2eTYKQVJxZGlEekU4cXRCeXRzYkxsV2huaVFISEFndGlnRzhYY0wwc0U2ZE1aM25oeC9TYUZNK1o2WHlzWTZyOTlNRQo2VUlKNHVWQ3lKSzRqNEtjTGs5dGdTcGJ6YVhiNnpVUHZSZmhrQ1gvM3UzMExDdmhTRWg3bVFPcVlwV2lWNFBkCmhXeXJkUXo2cmxGeFFPTy9oYkV6VHlXaDJ5d1dXM20rMVJyWG14MXNuWGNwWjN3WERxOFByM05mV2ZxYWNZUzMKakMzT2lUQzRXUjI5MjNDdWxDalZYU2RhY3huTTNqMnBhejZ2SFk2QXVVaFF6TjdpWjd3NUVNQ2ZhUXNUdk1rZwpZcG9jVWtOY3gxUksxeEYvVXZvRDZZL2t5QURxdWVFT05NMC84YU12UFNIQjdRUGxtRXR6YUwxVENvTT0KLS0tLS1FTkQgQ0VSVElGSUNBVEUtLS0tLQo=\r\n",
      "    server: https://10.192.0.2:6443\r\n",
      "  name: kubernetes\r\n",
      "contexts:\r\n",
      "- context:\r\n",
      "    cluster: kubernetes\r\n",
      "    user: system:node:kube-master\r\n",
      "  name: system:node:kube-master@kubernetes\r\n",
      "current-context: system:node:kube-master@kubernetes\r\n",
      "kind: Config\r\n",
      "preferences: {}\r\n",
      "users:\r\n",
      "- name: system:node:kube-master\r\n",
      "  user:\r\n",
      "    client-certificate-data: LS0tLS1CRUdJTiBDRVJUSUZJQ0FURS0tLS0tCk1JSUM5ekNDQWQrZ0F3SUJBZ0lJU2VJcFdIM3NoWUF3RFFZSktvWklodmNOQVFFTEJRQXdGVEVUTUJFR0ExVUUKQXhNS2EzVmlaWEp1WlhSbGN6QWVGdzB4T0RFd016RXhOREE0TVRWYUZ3MHhPVEV3TXpFeE5EQTRNVGhhTURreApGVEFUQmdOVkJBb1RESE41YzNSbGJUcHViMlJsY3pFZ01CNEdBMVVFQXhNWGMzbHpkR1Z0T201dlpHVTZhM1ZpClpTMXRZWE4wWlhJd2dnRWlNQTBHQ1NxR1NJYjNEUUVCQVFVQUE0SUJEd0F3Z2dFS0FvSUJBUURUa1QwVW5LL0MKdk04S0JlRVdCTktLaTJtMXBCd0paVHBmU3dLdEZnZFp6alYxU1RucUhxMGFhcE5IQXVOVnNoM040OXVIYzJjTApCT2d0aGZ1M0ovNE04UHVRbm84c2xQbjMrNW1FUVR1NlRHT1NUMXRkZVlpd0hmeHM4TnI5OU9tMzBtSjVILzJVCmxlRm1Xc0NnM2ZSa3pZOE5tRVozdWZxaDI5QURJeG1NY290elUrNHNITjVIMGFkRmdvOURmbXI3Mi9YRWFnSE0KUGZHejlBRm03enZmdGhUc2NyMWJDRG1YWGFwUTVsd2lYZXF1QTNBZjdXWURXSDRGZzlXOWR1eHpwUlVDek9VcApYMWtYWFZMbHFTNjdMWmFzTGhCcnBSditkTlI3dUF6QlhuUjFOT3NNNmJjZ1ArTEYyRTBKeHZGU3M2QVRSbWxCCm9GUDBVT3p6amRPVkFnTUJBQUdqSnpBbE1BNEdBMVVkRHdFQi93UUVBd0lGb0RBVEJnTlZIU1VFRERBS0JnZ3IKQmdFRkJRY0RBakFOQmdrcWhraUc5dzBCQVFzRkFBT0NBUUVBYlhhUmsrQ1UrODJlMGdNWGM2N3ZEeVF5VE0xeQpSa0dKVlBPcFI2R1M0c0pBcDVFZ2tPa2ErTENkcDFlMmdNaXFESnVsOVRmN2ovWlBhbWNPRUZZcjNKN2hrUEgzCklmY1ZZNVUrTU54V2dwd0pNY3Q4d0Q0L0EzUmhhVUFwL3g5UmhvODMvZ25pQ0NpTkRWZnlDWmJYQ1YwSWN0d3oKS0c3NWFZajgzdXkwV2dFSXpZZ3RlQUpIMHo5QTB6TEVZa0J3ekVjM0crZENZWExQZExMK0JNZlNvMEc3Tmo4QwpyRlhGVWR5Uzk2VlBhTzJUdk9MUDZ2NzZRQkRMSjQrQlA3VlRoUVF5b3VKL3FpQVRob0hLQkRrcGc3WGg1WElNClQvYWFCM056K2ZjYlQ3VEhBTlh1VnZGZm1VY3l4T2FzV0Z6OWZUYTNPdWhMQzZOZTFabktLcWtRYlE9PQotLS0tLUVORCBDRVJUSUZJQ0FURS0tLS0tCg==\r\n",
      "    client-key-data: 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\r\n"
     ]
    }
   ],
   "source": [
    "!docker exec -i kube-master cat /etc/kubernetes/kubelet.conf"
   ]
  },
  {
   "cell_type": "code",
   "execution_count": 8,
   "metadata": {},
   "outputs": [
    {
     "name": "stdout",
     "output_type": "stream",
     "text": [
      "total 24K\r\n",
      "drwx------ 2 root root 4.0K Oct 31 14:10 .\r\n",
      "drwxr-xr-x 4 root root 4.0K Oct 31 14:08 ..\r\n",
      "-rw------- 1 root root 2.0K Oct 31 14:08 etcd.yaml\r\n",
      "-rw------- 1 root root 3.7K Oct 31 14:09 kube-apiserver.yaml\r\n",
      "-rw------- 1 root root 2.8K Oct 31 14:09 kube-controller-manager.yaml\r\n",
      "-rw------- 1 root root 1.5K Oct 31 14:09 kube-scheduler.yaml\r\n"
     ]
    }
   ],
   "source": [
    "!docker exec -i kube-master ls -alh /etc/kubernetes/manifests"
   ]
  },
  {
   "cell_type": "code",
   "execution_count": 13,
   "metadata": {},
   "outputs": [
    {
     "name": "stdout",
     "output_type": "stream",
     "text": [
      "apiVersion: v1\r\n",
      "kind: Pod\r\n",
      "metadata:\r\n",
      "  annotations:\r\n",
      "    scheduler.alpha.kubernetes.io/critical-pod: \"\"\r\n",
      "  creationTimestamp: null\r\n",
      "  labels:\r\n",
      "    component: kube-apiserver\r\n",
      "    tier: control-plane\r\n",
      "  name: kube-apiserver\r\n",
      "spec:\r\n",
      "  containers:\r\n",
      "  - command:\r\n",
      "    - kube-apiserver\r\n",
      "    - --authorization-mode=Node,RBAC\r\n",
      "    - --feature-gates=MountPropagation=true\r\n",
      "    - --advertise-address=10.192.0.2\r\n",
      "    - --allow-privileged=true\r\n",
      "    - --client-ca-file=/etc/kubernetes/pki/ca.crt\r\n",
      "    - --disable-admission-plugins=PersistentVolumeLabel\r\n",
      "    - --enable-admission-plugins=NodeRestriction\r\n",
      "    - --enable-bootstrap-token-auth=true\r\n",
      "    - --etcd-cafile=/etc/kubernetes/pki/etcd/ca.crt\r\n",
      "    - --etcd-certfile=/etc/kubernetes/pki/apiserver-etcd-client.crt\r\n",
      "    - --etcd-keyfile=/etc/kubernetes/pki/apiserver-etcd-client.key\r\n",
      "    - --etcd-servers=https://127.0.0.1:2379\r\n",
      "    - --kubelet-client-certificate=/etc/kubernetes/pki/apiserver-kubelet-client.crt\r\n",
      "    - --kubelet-client-key=/etc/kubernetes/pki/apiserver-kubelet-client.key\r\n",
      "    - --kubelet-preferred-address-types=InternalIP,ExternalIP,Hostname\r\n",
      "    - --proxy-client-cert-file=/etc/kubernetes/pki/front-proxy-client.crt\r\n",
      "    - --proxy-client-key-file=/etc/kubernetes/pki/front-proxy-client.key\r\n",
      "    - --requestheader-allowed-names=front-proxy-client\r\n",
      "    - --requestheader-client-ca-file=/etc/kubernetes/pki/front-proxy-ca.crt\r\n",
      "    - --requestheader-extra-headers-prefix=X-Remote-Extra-\r\n",
      "    - --requestheader-group-headers=X-Remote-Group\r\n",
      "    - --requestheader-username-headers=X-Remote-User\r\n",
      "    - --secure-port=6443\r\n",
      "    - --service-account-key-file=/etc/kubernetes/pki/sa.pub\r\n",
      "    - --service-cluster-ip-range=10.96.0.0/12\r\n",
      "    - --tls-cert-file=/etc/kubernetes/pki/apiserver.crt\r\n",
      "    - --tls-private-key-file=/etc/kubernetes/pki/apiserver.key\r\n",
      "    - --insecure-bind-address=0.0.0.0\r\n",
      "    - --insecure-port=8080\r\n",
      "    image: mirantis/hypokube:final\r\n",
      "    imagePullPolicy: IfNotPresent\r\n",
      "    livenessProbe:\r\n",
      "      failureThreshold: 8\r\n",
      "      httpGet:\r\n",
      "        host: 10.192.0.2\r\n",
      "        path: /healthz\r\n",
      "        port: 6443\r\n",
      "        scheme: HTTPS\r\n",
      "      initialDelaySeconds: 15\r\n",
      "      periodSeconds: 10\r\n",
      "      successThreshold: 1\r\n",
      "      timeoutSeconds: 15\r\n",
      "    name: kube-apiserver\r\n",
      "    resources:\r\n",
      "      requests:\r\n",
      "        cpu: 250m\r\n",
      "    terminationMessagePath: /dev/termination-log\r\n",
      "    terminationMessagePolicy: File\r\n",
      "    volumeMounts:\r\n",
      "    - mountPath: /etc/ca-certificates\r\n",
      "      name: etc-ca-certificates\r\n",
      "      readOnly: true\r\n",
      "    - mountPath: /etc/kubernetes/pki\r\n",
      "      name: k8s-certs\r\n",
      "      readOnly: true\r\n",
      "    - mountPath: /etc/ssl/certs\r\n",
      "      name: ca-certs\r\n",
      "      readOnly: true\r\n",
      "    - mountPath: /usr/share/ca-certificates\r\n",
      "      name: usr-share-ca-certificates\r\n",
      "      readOnly: true\r\n",
      "    - mountPath: /usr/local/share/ca-certificates\r\n",
      "      name: usr-local-share-ca-certificates\r\n",
      "      readOnly: true\r\n",
      "    - mountPath: /hyperkube\r\n",
      "      name: hyperkube\r\n",
      "  dnsPolicy: ClusterFirst\r\n",
      "  hostNetwork: true\r\n",
      "  priorityClassName: system-cluster-critical\r\n",
      "  restartPolicy: Always\r\n",
      "  schedulerName: default-scheduler\r\n",
      "  securityContext: {}\r\n",
      "  terminationGracePeriodSeconds: 30\r\n",
      "  volumes:\r\n",
      "  - hostPath:\r\n",
      "      path: /etc/ssl/certs\r\n",
      "      type: DirectoryOrCreate\r\n",
      "    name: ca-certs\r\n",
      "  - hostPath:\r\n",
      "      path: /usr/share/ca-certificates\r\n",
      "      type: DirectoryOrCreate\r\n",
      "    name: usr-share-ca-certificates\r\n",
      "  - hostPath:\r\n",
      "      path: /usr/local/share/ca-certificates\r\n",
      "      type: DirectoryOrCreate\r\n",
      "    name: usr-local-share-ca-certificates\r\n",
      "  - hostPath:\r\n",
      "      path: /etc/ca-certificates\r\n",
      "      type: DirectoryOrCreate\r\n",
      "    name: etc-ca-certificates\r\n",
      "  - hostPath:\r\n",
      "      path: /etc/kubernetes/pki\r\n",
      "      type: DirectoryOrCreate\r\n",
      "    name: k8s-certs\r\n",
      "  - hostPath:\r\n",
      "      path: /k8s/hyperkube\r\n",
      "      type: \"\"\r\n",
      "    name: hyperkube\r\n",
      "status: {}\r\n"
     ]
    }
   ],
   "source": [
    "!docker exec -i kube-master cat /etc/kubernetes/manifests/kube-apiserver.yaml"
   ]
  },
  {
   "cell_type": "code",
   "execution_count": 12,
   "metadata": {},
   "outputs": [
    {
     "name": "stdout",
     "output_type": "stream",
     "text": [
      "admin.conf\r\n",
      "controller-manager.conf\r\n",
      "kubelet.conf\r\n",
      "manifests\r\n",
      "pki\r\n",
      "scheduler.conf\r\n"
     ]
    }
   ],
   "source": [
    "!docker exec -i kube-master ls /etc/kubernetes"
   ]
  },
  {
   "cell_type": "code",
   "execution_count": 14,
   "metadata": {},
   "outputs": [
    {
     "name": "stdout",
     "output_type": "stream",
     "text": [
      "CONTAINER ID        IMAGE                  COMMAND                  CREATED             STATUS              PORTS               NAMES\r\n",
      "49e5a62e51c9        cf2bb25e5b43           \"/usr/local/bin/ku...\"   17 minutes ago      Up 17 minutes                           k8s_kube-proxy_kube-proxy-l56gd_kube-system_b50922e7-dd16-11e8-9e2f-66621ed27d83_1\r\n",
      "9e7922ff8c87        k8s.gcr.io/pause:3.1   \"/pause\"                 17 minutes ago      Up 17 minutes                           k8s_POD_kube-proxy-l56gd_kube-system_b50922e7-dd16-11e8-9e2f-66621ed27d83_1\r\n",
      "043abfa27000        cf2bb25e5b43           \"kube-scheduler --...\"   17 minutes ago      Up 17 minutes                           k8s_kube-scheduler_kube-scheduler-kube-master_default_27a9e6670b45047dfa1152fa922aff56_1\r\n",
      "ab694ba5f5f0        b8df3b177be2           \"etcd --advertise-...\"   17 minutes ago      Up 17 minutes                           k8s_etcd_etcd-kube-master_kube-system_78263d83ff9d8e4fa24f4ff1b321f5b4_1\r\n",
      "8e856f45fd56        cf2bb25e5b43           \"kube-controller-m...\"   17 minutes ago      Up 17 minutes                           k8s_kube-controller-manager_kube-controller-manager-kube-master_default_88348e9dea8bd5a9480d791b6fbffc7e_1\r\n",
      "8011731d7c46        cf2bb25e5b43           \"kube-apiserver --...\"   17 minutes ago      Up 17 minutes                           k8s_kube-apiserver_kube-apiserver-kube-master_default_d037de2e16277da22625256bbc3daa26_1\r\n",
      "6726352a50b4        k8s.gcr.io/pause:3.1   \"/pause\"                 17 minutes ago      Up 17 minutes                           k8s_POD_kube-scheduler-kube-master_default_27a9e6670b45047dfa1152fa922aff56_1\r\n",
      "0589963da77c        k8s.gcr.io/pause:3.1   \"/pause\"                 17 minutes ago      Up 17 minutes                           k8s_POD_kube-controller-manager-kube-master_default_88348e9dea8bd5a9480d791b6fbffc7e_1\r\n",
      "57fa47e0ae51        k8s.gcr.io/pause:3.1   \"/pause\"                 17 minutes ago      Up 17 minutes                           k8s_POD_kube-apiserver-kube-master_default_d037de2e16277da22625256bbc3daa26_1\r\n",
      "beebde25f7e4        k8s.gcr.io/pause:3.1   \"/pause\"                 17 minutes ago      Up 17 minutes                           k8s_POD_etcd-kube-master_kube-system_78263d83ff9d8e4fa24f4ff1b321f5b4_1\r\n"
     ]
    }
   ],
   "source": [
    "!docker exec -i kube-master docker ps"
   ]
  },
  {
   "cell_type": "code",
   "execution_count": 15,
   "metadata": {},
   "outputs": [
    {
     "name": "stdout",
     "output_type": "stream",
     "text": [
      "UID        PID  PPID  C STIME TTY          TIME CMD\r\n",
      "root         1     0  0 14:07 ?        00:00:00 /sbin/dind_init systemd.setenv=CNI_PLUGIN=bridge systemd.setenv=IP_MODE=ipv4 systemd.setenv=DIND_STORAGE_DRIVER=overlay2 systemd.setenv=POD_NET_PREFIX=\"10.244.1\" systemd.setenv=POD_NET_SIZE=\"24\" systemd.setenv=POD_NET2_PREFIX=\"\" systemd.setenv=POD_NET2_SIZE=\"\" systemd.setenv=SERVICE_NET_MODE=ipv4 systemd.setenv=USE_HAIRPIN=false systemd.setenv=DNS_SVC_IP=10.96.0.10 systemd.setenv=DNS_SERVICE=kube-dns\r\n",
      "root        17     1  0 14:07 ?        00:00:03 /lib/systemd/systemd-journald\r\n",
      "root        49     1  0 14:07 ?        00:00:00 /bin/bash /usr/local/bin/dindnet\r\n",
      "root       101    49  0 14:07 ?        00:00:00 socat udp4-recvfrom:53,reuseaddr,fork,bind=10.192.0.2 UDP:127.0.0.11:53\r\n",
      "root      3837     1  2 14:10 ?        00:00:32 /k8s/hyperkube kubelet --kubeconfig=/etc/kubernetes/kubelet.conf --pod-manifest-path=/etc/kubernetes/manifests --allow-privileged=true --network-plugin=cni --cni-conf-dir=/etc/cni/net.d --cni-bin-dir=/opt/cni/bin --cluster-dns=10.96.0.10 --cluster-domain=cluster.local --eviction-hard=memory.available<100Mi,nodefs.available<100Mi,nodefs.inodesFree<1000 --fail-swap-on=false --bootstrap-kubeconfig=/etc/kubernetes/bootstrap-kubelet.conf --feature-gates=MountPropagation=true,DynamicKubeletConfig=true --v=4\r\n",
      "root      3844     1  0 14:10 ?        00:00:07 /usr/bin/dockerd -H fd:// --storage-driver=overlay2 --storage-opt overlay2.override_kernel_check=true -g /dind/docker\r\n",
      "root      3864  3844  0 14:10 ?        00:00:01 docker-containerd -l unix:///var/run/docker/libcontainerd/docker-containerd.sock --metrics-interval=0 --start-timeout 2m --state-dir /var/run/docker/libcontainerd/containerd --shim docker-containerd-shim --runtime docker-runc\r\n",
      "root      4026  3864  0 14:11 ?        00:00:00 docker-containerd-shim beebde25f7e4fc209f49933b0986c03a8db4b6901ec9d47f9d8bbe8ab8edf70b /var/run/docker/libcontainerd/beebde25f7e4fc209f49933b0986c03a8db4b6901ec9d47f9d8bbe8ab8edf70b docker-runc\r\n",
      "root      4027  3864  0 14:11 ?        00:00:00 docker-containerd-shim 57fa47e0ae51135f7f724e64faf0620a148e77d58399c815bc826873d053d25e /var/run/docker/libcontainerd/57fa47e0ae51135f7f724e64faf0620a148e77d58399c815bc826873d053d25e docker-runc\r\n",
      "root      4061  4027  0 14:11 ?        00:00:00 /pause\r\n",
      "root      4068  4026  0 14:11 ?        00:00:00 /pause\r\n",
      "root      4074  3864  0 14:11 ?        00:00:00 docker-containerd-shim 0589963da77c802cf545b1505cabbc5d7c0fa9929e26bb160485961c6a28f47e /var/run/docker/libcontainerd/0589963da77c802cf545b1505cabbc5d7c0fa9929e26bb160485961c6a28f47e docker-runc\r\n",
      "root      4092  4074  0 14:11 ?        00:00:00 /pause\r\n",
      "root      4100  3864  0 14:11 ?        00:00:00 docker-containerd-shim 6726352a50b428409717527040b6023b50efaa310fe5ce2bf8daa5f3b138c522 /var/run/docker/libcontainerd/6726352a50b428409717527040b6023b50efaa310fe5ce2bf8daa5f3b138c522 docker-runc\r\n",
      "root      4119  4100  0 14:11 ?        00:00:00 /pause\r\n",
      "root      4170  3864  0 14:11 ?        00:00:00 docker-containerd-shim 8011731d7c46cd4acdf675960ea9e8532145e68011041f769433143d0563ed64 /var/run/docker/libcontainerd/8011731d7c46cd4acdf675960ea9e8532145e68011041f769433143d0563ed64 docker-runc\r\n",
      "root      4189  4170  4 14:11 ?        00:00:53 kube-apiserver --authorization-mode=Node,RBAC --feature-gates=MountPropagation=true --advertise-address=10.192.0.2 --allow-privileged=true --client-ca-file=/etc/kubernetes/pki/ca.crt --disable-admission-plugins=PersistentVolumeLabel --enable-admission-plugins=NodeRestriction --enable-bootstrap-token-auth=true --etcd-cafile=/etc/kubernetes/pki/etcd/ca.crt --etcd-certfile=/etc/kubernetes/pki/apiserver-etcd-client.crt --etcd-keyfile=/etc/kubernetes/pki/apiserver-etcd-client.key --etcd-servers=https://127.0.0.1:2379 --kubelet-client-certificate=/etc/kubernetes/pki/apiserver-kubelet-client.crt --kubelet-client-key=/etc/kubernetes/pki/apiserver-kubelet-client.key --kubelet-preferred-address-types=InternalIP,ExternalIP,Hostname --proxy-client-cert-file=/etc/kubernetes/pki/front-proxy-client.crt --proxy-client-key-file=/etc/kubernetes/pki/front-proxy-client.key --requestheader-allowed-names=front-proxy-client --requestheader-client-ca-file=/etc/kubernetes/pki/front-proxy-ca.crt --requestheader-extra-headers-prefix=X-Remote-Extra- --requestheader-group-headers=X-Remote-Group --requestheader-username-headers=X-Remote-User --secure-port=6443 --service-account-key-file=/etc/kubernetes/pki/sa.pub --service-cluster-ip-range=10.96.0.0/12 --tls-cert-file=/etc/kubernetes/pki/apiserver.crt --tls-private-key-file=/etc/kubernetes/pki/apiserver.key --insecure-bind-address=0.0.0.0 --insecure-port=8080\r\n",
      "root      4196  3864  0 14:11 ?        00:00:00 docker-containerd-shim 8e856f45fd56fc3ab0dd689fbae6053f62207f2e406c2220a0878584a4f4ff40 /var/run/docker/libcontainerd/8e856f45fd56fc3ab0dd689fbae6053f62207f2e406c2220a0878584a4f4ff40 docker-runc\r\n",
      "root      4214  4196  6 14:11 ?        00:01:05 kube-controller-manager --feature-gates=MountPropagation=true --address=127.0.0.1 --cluster-signing-cert-file=/etc/kubernetes/pki/ca.crt --cluster-signing-key-file=/etc/kubernetes/pki/ca.key --controllers=*,bootstrapsigner,tokencleaner --kubeconfig=/etc/kubernetes/controller-manager.conf --leader-elect=true --root-ca-file=/etc/kubernetes/pki/ca.crt --service-account-private-key-file=/etc/kubernetes/pki/sa.key --use-service-account-credentials=true\r\n",
      "root      4221  3864  0 14:11 ?        00:00:00 docker-containerd-shim ab694ba5f5f0080677ed1b0fab66627d8d48b3307992914fcaae8dfa15667d06 /var/run/docker/libcontainerd/ab694ba5f5f0080677ed1b0fab66627d8d48b3307992914fcaae8dfa15667d06 docker-runc\r\n",
      "root      4238  4221  2 14:11 ?        00:00:23 etcd --advertise-client-urls=https://127.0.0.1:2379 --cert-file=/etc/kubernetes/pki/etcd/server.crt --client-cert-auth=true --data-dir=/var/lib/etcd --initial-advertise-peer-urls=https://127.0.0.1:2380 --initial-cluster=kube-master=https://127.0.0.1:2380 --key-file=/etc/kubernetes/pki/etcd/server.key --listen-client-urls=https://127.0.0.1:2379 --listen-peer-urls=https://127.0.0.1:2380 --name=kube-master --peer-cert-file=/etc/kubernetes/pki/etcd/peer.crt --peer-client-cert-auth=true --peer-key-file=/etc/kubernetes/pki/etcd/peer.key --peer-trusted-ca-file=/etc/kubernetes/pki/etcd/ca.crt --snapshot-count=10000 --trusted-ca-file=/etc/kubernetes/pki/etcd/ca.crt\r\n",
      "root      4245  3864  0 14:11 ?        00:00:00 docker-containerd-shim 043abfa27000f47968d8872734c2cb6384e97f04f236266c5e8b90bb8096ce56 /var/run/docker/libcontainerd/043abfa27000f47968d8872734c2cb6384e97f04f236266c5e8b90bb8096ce56 docker-runc\r\n",
      "root      4284  4245  1 14:11 ?        00:00:20 kube-scheduler --feature-gates=MountPropagation=true --address=127.0.0.1 --kubeconfig=/etc/kubernetes/scheduler.conf --leader-elect=true\r\n",
      "root      4366  3864  0 14:11 ?        00:00:00 docker-containerd-shim 9e7922ff8c8735082c1822e370c0513b11479eb52a188d54812958f9c0b94779 /var/run/docker/libcontainerd/9e7922ff8c8735082c1822e370c0513b11479eb52a188d54812958f9c0b94779 docker-runc\r\n",
      "root      4385  4366  0 14:11 ?        00:00:00 /pause\r\n",
      "root      4404  3864  0 14:11 ?        00:00:00 docker-containerd-shim 49e5a62e51c91f33fe7ddeaba87b090932a90a2932d4cc6746b1f8fbb59b4276 /var/run/docker/libcontainerd/49e5a62e51c91f33fe7ddeaba87b090932a90a2932d4cc6746b1f8fbb59b4276 docker-runc\r\n",
      "root      4422  4404  0 14:11 ?        00:00:03 /usr/local/bin/kube-proxy --config=/var/lib/kube-proxy/config.conf\r\n",
      "root      4803     0  0 14:12 pts/0    00:00:00 bash\r\n",
      "root      9167     0  0 14:29 ?        00:00:00 ps -ef\r\n"
     ]
    }
   ],
   "source": [
    "!docker exec -i kube-master ps -ef"
   ]
  },
  {
   "cell_type": "code",
   "execution_count": 20,
   "metadata": {},
   "outputs": [
    {
     "name": "stdout",
     "output_type": "stream",
     "text": [
      "docker.service.d\r\n",
      "docker.service.wants\r\n",
      "getty.target.wants\r\n",
      "multi-user.target.wants\r\n",
      "sockets.target.wants\r\n",
      "sysinit.target.wants\r\n"
     ]
    }
   ],
   "source": [
    "!docker exec -i kube-master ls /etc/systemd/system"
   ]
  },
  {
   "cell_type": "code",
   "execution_count": null,
   "metadata": {},
   "outputs": [],
   "source": [
    "!docker exec -i kube-master"
   ]
  },
  {
   "cell_type": "code",
   "execution_count": null,
   "metadata": {},
   "outputs": [],
   "source": [
    "!docker exec -i kube-master"
   ]
  },
  {
   "cell_type": "code",
   "execution_count": null,
   "metadata": {},
   "outputs": [],
   "source": [
    "!docker exec -i kube-master"
   ]
  }
 ],
 "metadata": {
  "kernelspec": {
   "display_name": "Python 3",
   "language": "python",
   "name": "python3"
  },
  "language_info": {
   "codemirror_mode": {
    "name": "ipython",
    "version": 3
   },
   "file_extension": ".py",
   "mimetype": "text/x-python",
   "name": "python",
   "nbconvert_exporter": "python",
   "pygments_lexer": "ipython3",
   "version": "3.6.4"
  }
 },
 "nbformat": 4,
 "nbformat_minor": 2
}
