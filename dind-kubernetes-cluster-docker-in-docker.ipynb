{
 "cells": [
  {
   "cell_type": "markdown",
   "metadata": {},
   "source": [
    "## Important files\n",
    "\n",
    "- /lib/systemd/systemd-sysv-install\n",
    "- /lib/systemd/system/kubelet.service\n",
    "- /etc/kubeadm.conf\n",
    "- /var/lib/kubelet/kubeadm-flags.env\n",
    "- /var/lib/kubelet/config.yaml\n",
    "\n",
    "- /etc/kubernetes/bootstrap-kubelet.conf \n",
    "- /etc/kubernetes/admin.conf\n",
    "- /etc/kubernetes/kubelet.conf\n",
    "- /etc/kubernetes/controller-manager.conf\n",
    "- /etc/kubernetes/scheduler.conf\n",
    "\n",
    "- /etc/kubernetes/manifests/kube-apiserver.yaml\n",
    "- /etc/kubernetes/manifests/kube-controller-manager.yaml\n",
    "- /etc/kubernetes/manifests/kube-scheduler.yaml\n",
    "- /etc/kubernetes/manifests/etcd.yaml\n"
   ]
  },
  {
   "cell_type": "markdown",
   "metadata": {},
   "source": [
    "## Docker images\n",
    "\n",
    "- mirantis/hypokube:base"
   ]
  }
 ],
 "metadata": {
  "kernelspec": {
   "display_name": "Python 3",
   "language": "python",
   "name": "python3"
  },
  "language_info": {
   "codemirror_mode": {
    "name": "ipython",
    "version": 3
   },
   "file_extension": ".py",
   "mimetype": "text/x-python",
   "name": "python",
   "nbconvert_exporter": "python",
   "pygments_lexer": "ipython3",
   "version": "3.6.4"
  }
 },
 "nbformat": 4,
 "nbformat_minor": 2
}
